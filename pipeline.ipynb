{
 "cells": [
  {
   "cell_type": "markdown",
   "id": "cc02d024-ce42-459e-b355-c05036ce1cc9",
   "metadata": {},
   "source": [
    "# CONFIG"
   ]
  },
  {
   "cell_type": "code",
   "execution_count": 147,
   "id": "9cf32263-342a-40c6-ab3c-81649e0855f4",
   "metadata": {},
   "outputs": [],
   "source": [
    "SOURCE_DATA = 'https://storage.yandexcloud.net/hackathon/events-2022-Sep-30-2134.parquet'\n",
    "STAGE_DIR = '/user/ht2/master/data'\n",
    "DB_HOST = '158.160.116.182'\n",
    "DB_PORT = '5432'\n",
    "DB_USER = \"de_student\"\n",
    "DB_PASSWORD = \"de_student\"\n",
    "DB_NAME = 'de_student'\n",
    "JDBC_URL = f\"jdbc:postgresql://{DB_HOST}:{DB_USER}/{DB_NAME}\"\n",
    "DB_INIT_SCHEMA = '/home/ubuntu/jupyter/db_initialization.sql'\n",
    "CDM_INSERT_SCHEMA = '/home/ubuntu/jupyter/cdm_insert.sql'"
   ]
  },
  {
   "cell_type": "markdown",
   "id": "41e46eda-e273-45e4-8188-14f1419bbf09",
   "metadata": {},
   "source": [
    "# Source to stage"
   ]
  },
  {
   "cell_type": "code",
   "execution_count": 123,
   "id": "22238959-69e9-41d7-a2ae-0002eff38969",
   "metadata": {},
   "outputs": [],
   "source": [
    "!hdfs dfs -mkdir -p {STAGE_DIR}"
   ]
  },
  {
   "cell_type": "code",
   "execution_count": null,
   "id": "d8ea6c49-ad49-4a23-91f2-5290e7ff6c78",
   "metadata": {},
   "outputs": [],
   "source": [
    "!hdfs dfs -cp {SOURCE_DATA} {STAGE_DIR}"
   ]
  },
  {
   "cell_type": "markdown",
   "id": "02b3a590-e84f-4fe8-9ae7-04de8473bf26",
   "metadata": {},
   "source": [
    "# Prepara Postgresql DB if not exists"
   ]
  },
  {
   "cell_type": "code",
   "execution_count": 148,
   "id": "bb712c83-07ce-448f-aa83-f65902f2a2e9",
   "metadata": {},
   "outputs": [],
   "source": [
    "import psycopg2"
   ]
  },
  {
   "cell_type": "code",
   "execution_count": 149,
   "id": "45391bb5-0c7c-401f-863f-ee43b926d230",
   "metadata": {},
   "outputs": [],
   "source": [
    "connection = psycopg2.connect(\n",
    "    host=DB_HOST,\n",
    "    port=DB_PORT,\n",
    "    database=DB_NAME,\n",
    "    user=DB_USER,\n",
    "    password=DB_PASSWORD)"
   ]
  },
  {
   "cell_type": "code",
   "execution_count": null,
   "id": "6ca0675b-49cc-4dd9-af8b-134958af38cd",
   "metadata": {},
   "outputs": [],
   "source": [
    "with connection.cursor() as cursor:\n",
    "    cursor.execute(open(DB_INIT_SCHEMA, \"r\").read())\n",
    "connection.commit()"
   ]
  },
  {
   "cell_type": "markdown",
   "id": "dec51f8b-66b4-4f60-9b82-85a288319204",
   "metadata": {},
   "source": [
    "# Stage to DDS"
   ]
  },
  {
   "cell_type": "code",
   "execution_count": 113,
   "id": "4bed889f-7360-45f9-a5b0-58a1773c6b0d",
   "metadata": {},
   "outputs": [],
   "source": [
    "import os\n",
    "os.environ['HADOOP_CONF_DIR'] = '/etc/hadoop/conf'\n",
    "os.environ['YARN_CONF_DIR'] = '/etc/hadoop/conf'\n",
    "\n",
    "import findspark\n",
    "findspark.init()\n",
    "findspark.find()\n",
    "\n",
    "import pyspark\n",
    "from pyspark.sql import SparkSession\n",
    "from pyspark.context import SparkContext\n",
    "import pyspark.sql.functions as F\n",
    "from pyspark.sql.types import IntegerType"
   ]
  },
  {
   "cell_type": "code",
   "execution_count": 17,
   "id": "2eee8f6f-884a-43d7-a66b-5474de776e71",
   "metadata": {},
   "outputs": [
    {
     "name": "stderr",
     "output_type": "stream",
     "text": [
      "SLF4J: Class path contains multiple SLF4J bindings.\n",
      "SLF4J: Found binding in [jar:file:/usr/lib/spark/jars/slf4j-log4j12-1.7.30.jar!/org/slf4j/impl/StaticLoggerBinder.class]\n",
      "SLF4J: Found binding in [jar:file:/usr/lib/hadoop/lib/slf4j-log4j12-1.7.25.jar!/org/slf4j/impl/StaticLoggerBinder.class]\n",
      "SLF4J: See http://www.slf4j.org/codes.html#multiple_bindings for an explanation.\n",
      "SLF4J: Actual binding is of type [org.slf4j.impl.Log4jLoggerFactory]\n",
      "Setting default log level to \"WARN\".\n",
      "To adjust logging level use sc.setLogLevel(newLevel). For SparkR, use setLogLevel(newLevel).\n",
      "2023-09-16 08:12:20,771 WARN util.Utils: spark.executor.instances less than spark.dynamicAllocation.minExecutors is invalid, ignoring its setting, please update your configs.\n",
      "2023-09-16 08:12:33,049 WARN util.Utils: spark.executor.instances less than spark.dynamicAllocation.minExecutors is invalid, ignoring its setting, please update your configs.\n",
      "2023-09-16 08:12:33,063 WARN cluster.YarnSchedulerBackend$YarnSchedulerEndpoint: Attempted to request executors before the AM has registered!\n"
     ]
    }
   ],
   "source": [
    "spark = SparkSession \\\n",
    "    .builder \\\n",
    "    .master(\"yarn\") \\\n",
    "        .config(\"spark.driver.cores\", \"2\") \\\n",
    "        .config(\"spark.driver.memory\", \"2g\") \\\n",
    "        .appName(\"stage_to_dds\") \\\n",
    "        .getOrCreate()"
   ]
  },
  {
   "cell_type": "code",
   "execution_count": 128,
   "id": "f83ad474-6adc-4b79-98d5-5261c1a88ad3",
   "metadata": {},
   "outputs": [],
   "source": [
    "df = spark.read.parquet(STAGE_DIR)"
   ]
  },
  {
   "cell_type": "code",
   "execution_count": 111,
   "id": "dd831d06-be8e-4f47-8f20-6d8309357d67",
   "metadata": {},
   "outputs": [],
   "source": [
    "df_dds = df\\\n",
    "    .withColumn(\"event_timestamp\",F.to_timestamp(\"event_timestamp\"))\\\n",
    "    .withColumn('date', F.to_timestamp(F.date_format(F.col(\"event_timestamp\"), 'yyyy-MM-dd')))\\\n",
    "    .withColumn('hour', F.date_format(F.col(\"event_timestamp\"), 'HH').cast(IntegerType()))\\\n",
    "    .withColumn('event_type_from_url', F.regexp_extract(\"page_url\", r\"com\\/([^\\W_]+)\", 1))"
   ]
  },
  {
   "cell_type": "code",
   "execution_count": 112,
   "id": "4d161fef-a436-433e-8d1f-3245fb29f9c8",
   "metadata": {},
   "outputs": [
    {
     "name": "stderr",
     "output_type": "stream",
     "text": [
      "                                                                                \r"
     ]
    }
   ],
   "source": [
    "df_dds.write.mode(\"append\").format(\"jdbc\")\\\n",
    "    .option(\"url\", JDBC_URL) \\\n",
    "    .option(\"driver\", \"org.postgresql.Driver\").option(\"dbtable\", \"dds.event_log\") \\\n",
    "    .option(\"user\", DB_USER).option(\"password\", DB_PASSWORD).save()"
   ]
  },
  {
   "cell_type": "markdown",
   "id": "1d1d8cb3-1a9c-4468-93d1-a11ed6f4a166",
   "metadata": {},
   "source": [
    "# Fill CDM"
   ]
  },
  {
   "cell_type": "code",
   "execution_count": null,
   "id": "8dc2163f-aa15-456f-be5d-f02c1bfc82f4",
   "metadata": {},
   "outputs": [],
   "source": [
    "with connection.cursor() as cursor:\n",
    "    cursor.execute(open(CDM_INSERT_SCHEMA, \"r\").read())\n",
    "connection.commit()"
   ]
  },
  {
   "cell_type": "code",
   "execution_count": 150,
   "id": "0784e3b6-490d-4b22-b574-463a203d118a",
   "metadata": {},
   "outputs": [],
   "source": [
    "connection.close()"
   ]
  }
 ],
 "metadata": {
  "kernelspec": {
   "display_name": "Python 3 (ipykernel)",
   "language": "python",
   "name": "python3"
  },
  "language_info": {
   "codemirror_mode": {
    "name": "ipython",
    "version": 3
   },
   "file_extension": ".py",
   "mimetype": "text/x-python",
   "name": "python",
   "nbconvert_exporter": "python",
   "pygments_lexer": "ipython3",
   "version": "3.8.10"
  }
 },
 "nbformat": 4,
 "nbformat_minor": 5
}
